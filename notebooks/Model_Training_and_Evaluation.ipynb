{
  "cells": [
    {
      "cell_type": "markdown",
      "metadata": {},
      "source": [
        "#### The next cell installs all required Python packages listed in requirements.txt.\n",
        "#### This ensures that the notebook has all necessary dependencies (such as scikit-learn, pandas, mlflow, etc.) before running any code related to model training or evaluation.\n"
      ]
    },
    {
      "cell_type": "code",
      "execution_count": null,
      "metadata": {
        "id": "NhhcWZtf71uT"
      },
      "outputs": [],
      "source": [
        "! pip install -r requirements.txt"
      ]
    },
    {
      "cell_type": "code",
      "execution_count": 1,
      "metadata": {},
      "outputs": [],
      "source": [
        "import sys\n",
        "sys.path.append('../src')"
      ]
    },
    {
      "cell_type": "markdown",
      "metadata": {},
      "source": [
        "#### The next cell imports the `main` function from the `train.py` script located in the `src` directory.\n",
        "#### This allows us to run the entire model training and evaluation pipeline defined in that script directly from the notebook.\n"
      ]
    },
    {
      "cell_type": "code",
      "execution_count": null,
      "metadata": {},
      "outputs": [],
      "source": [
        "from train import main"
      ]
    },
    {
      "cell_type": "markdown",
      "metadata": {},
      "source": [
        " #### The next cell calls the `main()` function from the `train.py` script.\n",
        " #### This executes the full model training and evaluation workflow, including:\n",
        " #### - Loading and preprocessing the data\n",
        " #### - Splitting the data into training and test sets\n",
        " #### - Training multiple machine learning models with hyperparameter tuning\n",
        " #### - Evaluating model performance using relevant metrics\n",
        " #### - Logging results and models to MLflow for experiment tracking and reproducibility\n",
        " #### - Registering the best-performing model in the MLflow Model Registry\n",
        " #### The output will display the best model and its evaluation metrics.\n"
      ]
    },
    {
      "cell_type": "code",
      "execution_count": 17,
      "metadata": {
        "colab": {
          "base_uri": "https://localhost:8080/"
        },
        "id": "XZEtxZPW3axG",
        "outputId": "4a1199b6-b9a2-4367-b6e1-219a7b831c9b"
      },
      "outputs": [
        {
          "name": "stdout",
          "output_type": "stream",
          "text": [
            "Loading data from: /content/data/processed\n",
            "One-hot encoding columns: []\n",
            "Label encoding columns: []\n",
            "Training LogisticRegression...\n"
          ]
        },
        {
          "name": "stderr",
          "output_type": "stream",
          "text": [
            "2025/07/01 21:37:58 WARNING mlflow.models.model: `artifact_path` is deprecated. Please use `name` instead.\n",
            "\u001b[31m2025/07/01 21:38:01 WARNING mlflow.models.model: Model logged without a signature and input example. Please set `input_example` parameter when logging the model to auto infer the model signature.\u001b[0m\n"
          ]
        },
        {
          "name": "stdout",
          "output_type": "stream",
          "text": [
            "LogisticRegression metrics:\n",
            "  accuracy: 0.9999477342810851\n",
            "  precision: 0.9999452054794521\n",
            "  recall: 1.0\n",
            "  f1: 0.9999726019890955\n",
            "  roc_auc: 0.9999999999999999\n",
            "Training RandomForest...\n"
          ]
        },
        {
          "name": "stderr",
          "output_type": "stream",
          "text": [
            "2025/07/01 21:38:22 WARNING mlflow.models.model: `artifact_path` is deprecated. Please use `name` instead.\n",
            "\u001b[31m2025/07/01 21:38:25 WARNING mlflow.models.model: Model logged without a signature and input example. Please set `input_example` parameter when logging the model to auto infer the model signature.\u001b[0m\n",
            "Registered model 'CreditRiskModel_BestModel' already exists. Creating a new version of this model...\n",
            "2025/07/01 21:38:25 WARNING mlflow.tracking._model_registry.fluent: Run with id e92044f312804b49b45af33d21098a13 has no artifacts at artifact path 'model', registering model based on models:/m-e093c60637b0457a89079ca226a34968 instead\n"
          ]
        },
        {
          "name": "stdout",
          "output_type": "stream",
          "text": [
            "RandomForest metrics:\n",
            "  accuracy: 1.0\n",
            "  precision: 1.0\n",
            "  recall: 1.0\n",
            "  f1: 1.0\n",
            "  roc_auc: 1.0\n",
            "Registering best model: RandomForest (ROC-AUC: 1.0000)\n",
            "Best model: RandomForest\n",
            "Best metrics:\n",
            "  accuracy: 1.0\n",
            "  precision: 1.0\n",
            "  recall: 1.0\n",
            "  f1: 1.0\n",
            "  roc_auc: 1.0\n"
          ]
        },
        {
          "name": "stderr",
          "output_type": "stream",
          "text": [
            "Created version '4' of model 'CreditRiskModel_BestModel'.\n"
          ]
        }
      ],
      "source": [
        "main()"
      ]
    },
    {
      "cell_type": "markdown",
      "metadata": {},
      "source": [
        "# Summary of Output:\n",
        "- MLflow issued warnings about the use of deprecated parameters (`artifact_path`) and missing model signatures/input examples.\n",
        "- The model 'CreditRiskModel_BestModel' was already registered in MLflow; a new version was created and registered.\n",
        "- The process completed successfully, and version '4' of the model was created in the MLflow Model Registry.\n"
      ]
    },
    {
      "cell_type": "markdown",
      "metadata": {},
      "source": [
        "# Analysis of Output:\n",
        " \n",
        " 1. **MLflow Warnings:**\n",
        "  - The output includes warnings from MLflow about deprecated parameters (`artifact_path`) and missing model signatures/input examples.\n",
        "  - These warnings do not stop the process but indicate that future versions of MLflow may require updates to the code for full compatibility and best practices.\n",
        "  - Specifically, the warning about missing model signature suggests that input/output schema is not automatically captured, which could affect model deployment or reproducibility.\n",
        "\n",
        " 2. **Model Registration:**\n",
        "  - The output shows that the model 'CreditRiskModel_BestModel' was already registered in the MLflow Model Registry.\n",
        "  - Instead of failing, MLflow created a new version (version '4') of the existing registered model.\n",
        "  - This is expected behavior when retraining and re-registering models with the same name.\n",
        " 3. **Process Completion:**\n",
        "  - Despite the warnings, the process completed successfully.\n",
        "  - The best model was selected, logged, and registered in MLflow, ensuring experiment tracking and model versioning.\n",
        " 4. **Implications:**\n",
        "   - The workflow is robust and supports iterative model development.\n",
        "   - To further improve, consider updating the MLflow logging code to include model signatures and input examples, and replace deprecated parameters.\n",
        "   - The MLflow Model Registry now contains multiple versions of the best model, which is useful for model comparison and rollback if needed.\n"
      ]
    }
  ],
  "metadata": {
    "accelerator": "GPU",
    "colab": {
      "gpuType": "T4",
      "provenance": []
    },
    "kernelspec": {
      "display_name": "Python 3",
      "name": "python3"
    },
    "language_info": {
      "codemirror_mode": {
        "name": "ipython",
        "version": 3
      },
      "file_extension": ".py",
      "mimetype": "text/x-python",
      "name": "python",
      "nbconvert_exporter": "python",
      "pygments_lexer": "ipython3",
      "version": "3.13.2"
    }
  },
  "nbformat": 4,
  "nbformat_minor": 0
}
