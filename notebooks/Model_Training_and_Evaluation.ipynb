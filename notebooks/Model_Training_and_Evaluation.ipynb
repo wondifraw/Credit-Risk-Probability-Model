{
  "cells": [
    {
      "cell_type": "markdown",
      "metadata": {},
      "source": [
        "#### The next cell installs all required Python packages listed in requirements.txt.\n",
        "#### This ensures that the notebook has all necessary dependencies (such as scikit-learn, pandas, mlflow, etc.) before running any code related to model training or evaluation.\n"
      ]
    },
    {
      "cell_type": "code",
      "execution_count": null,
      "metadata": {
        "id": "NhhcWZtf71uT"
      },
      "outputs": [],
      "source": [
        "! pip install -r requirements.txt"
      ]
    },
    {
      "cell_type": "code",
      "execution_count": null,
      "metadata": {},
      "outputs": [],
      "source": [
        "from train import main"
      ]
    },
    {
      "cell_type": "code",
      "execution_count": 17,
      "metadata": {
        "colab": {
          "base_uri": "https://localhost:8080/"
        },
        "id": "XZEtxZPW3axG",
        "outputId": "4a1199b6-b9a2-4367-b6e1-219a7b831c9b"
      },
      "outputs": [
        {
          "name": "stdout",
          "output_type": "stream",
          "text": [
            "Loading data from: /content/data/processed\n",
            "One-hot encoding columns: []\n",
            "Label encoding columns: []\n",
            "Training LogisticRegression...\n"
          ]
        },
        {
          "name": "stderr",
          "output_type": "stream",
          "text": [
            "2025/07/01 21:37:58 WARNING mlflow.models.model: `artifact_path` is deprecated. Please use `name` instead.\n",
            "\u001b[31m2025/07/01 21:38:01 WARNING mlflow.models.model: Model logged without a signature and input example. Please set `input_example` parameter when logging the model to auto infer the model signature.\u001b[0m\n"
          ]
        },
        {
          "name": "stdout",
          "output_type": "stream",
          "text": [
            "LogisticRegression metrics:\n",
            "  accuracy: 0.9999477342810851\n",
            "  precision: 0.9999452054794521\n",
            "  recall: 1.0\n",
            "  f1: 0.9999726019890955\n",
            "  roc_auc: 0.9999999999999999\n",
            "Training RandomForest...\n"
          ]
        },
        {
          "name": "stderr",
          "output_type": "stream",
          "text": [
            "2025/07/01 21:38:22 WARNING mlflow.models.model: `artifact_path` is deprecated. Please use `name` instead.\n",
            "\u001b[31m2025/07/01 21:38:25 WARNING mlflow.models.model: Model logged without a signature and input example. Please set `input_example` parameter when logging the model to auto infer the model signature.\u001b[0m\n",
            "Registered model 'CreditRiskModel_BestModel' already exists. Creating a new version of this model...\n",
            "2025/07/01 21:38:25 WARNING mlflow.tracking._model_registry.fluent: Run with id e92044f312804b49b45af33d21098a13 has no artifacts at artifact path 'model', registering model based on models:/m-e093c60637b0457a89079ca226a34968 instead\n"
          ]
        },
        {
          "name": "stdout",
          "output_type": "stream",
          "text": [
            "RandomForest metrics:\n",
            "  accuracy: 1.0\n",
            "  precision: 1.0\n",
            "  recall: 1.0\n",
            "  f1: 1.0\n",
            "  roc_auc: 1.0\n",
            "Registering best model: RandomForest (ROC-AUC: 1.0000)\n",
            "Best model: RandomForest\n",
            "Best metrics:\n",
            "  accuracy: 1.0\n",
            "  precision: 1.0\n",
            "  recall: 1.0\n",
            "  f1: 1.0\n",
            "  roc_auc: 1.0\n"
          ]
        },
        {
          "name": "stderr",
          "output_type": "stream",
          "text": [
            "Created version '4' of model 'CreditRiskModel_BestModel'.\n"
          ]
        }
      ],
      "source": [
        "main()"
      ]
    }
  ],
  "metadata": {
    "accelerator": "GPU",
    "colab": {
      "gpuType": "T4",
      "provenance": []
    },
    "kernelspec": {
      "display_name": "Python 3",
      "name": "python3"
    },
    "language_info": {
      "name": "python"
    }
  },
  "nbformat": 4,
  "nbformat_minor": 0
}
