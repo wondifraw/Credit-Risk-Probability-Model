{
  "cells": [
    {
      "cell_type": "markdown",
      "metadata": {},
      "source": [
        "\n",
        "#### This notebook is designed for training and evaluating credit risk models.\n",
        "#### The following cells will import the training pipeline and execute the main training workflow,\n",
        "#### which includes data loading, preprocessing, model training, evaluation, and model registration using MLflow.\n"
      ]
    },
    {
      "cell_type": "code",
      "execution_count": 1,
      "metadata": {},
      "outputs": [],
      "source": [
        "import sys\n",
        "sys.path.append('../src')"
      ]
    },
    {
      "cell_type": "markdown",
      "metadata": {},
      "source": [
        "#### The next code cell imports the main training pipeline from the `src/train.py` module and executes it.\n",
        "#### This pipeline performs the following steps:\n",
        "  1. Loads and preprocesses the credit risk data.\n",
        "  2. Trains multiple machine learning models (e.g., Logistic Regression, Random Forest) with hyperparameter tuning.\n",
        "  3. Evaluates each model using metrics such as accuracy, precision, recall, F1-score, and ROC-AUC.\n",
        "  4. Tracks experiments and metrics using MLflow, including logging the best model and its parameters.\n",
        "  5. Registers the best-performing model in the MLflow Model Registry and saves it locally.\n",
        "#\n",
        "#### The output of this cell will display:\n",
        "   - Training progress and metrics for each model.\n",
        "   - MLflow warnings or hints (e.g., about integer columns and artifact path deprecation).\n",
        "   - Confirmation of model registration in MLflow, including the model version.\n",
        "   - The name and metrics of the best model found during training.\n"
      ]
    },
    {
      "cell_type": "code",
      "execution_count": null,
      "metadata": {},
      "outputs": [
        {
          "name": "stdout",
          "output_type": "stream",
          "text": [
            "Loading data from: d:\\10Acadamy\\Credit-Risk-Probability-Model\\data\\processed\n",
            "One-hot encoding columns: []\n",
            "Label encoding columns: []\n",
            "Training LogisticRegression...\n"
          ]
        },
        {
          "name": "stderr",
          "output_type": "stream",
          "text": [
            "c:\\Users\\W-HP\\AppData\\Local\\Programs\\Python\\Python313\\Lib\\site-packages\\mlflow\\types\\utils.py:452: UserWarning: Hint: Inferred schema contains integer column(s). Integer columns in Python cannot represent missing values. If your input data contains missing values at inference time, it will be encoded as floats and will cause a schema enforcement error. The best way to avoid this problem is to infer the model schema based on a realistic data sample (training dataset) that includes missing values. Alternatively, you can declare integer columns as doubles (float64) whenever these columns may have missing values. See `Handling Integers With Missing Values <https://www.mlflow.org/docs/latest/models.html#handling-integers-with-missing-values>`_ for more details.\n",
            "  warnings.warn(\n",
            "2025/07/04 16:40:07 WARNING mlflow.models.model: `artifact_path` is deprecated. Please use `name` instead.\n"
          ]
        },
        {
          "data": {
            "application/vnd.jupyter.widget-view+json": {
              "model_id": "54e7030ba3e64ded90a07766ed25504e",
              "version_major": 2,
              "version_minor": 0
            },
            "text/plain": [
              "Downloading artifacts:   0%|          | 0/7 [00:00<?, ?it/s]"
            ]
          },
          "metadata": {},
          "output_type": "display_data"
        },
        {
          "name": "stdout",
          "output_type": "stream",
          "text": [
            "LogisticRegression metrics: {'accuracy': 0.9999477342810851, 'precision': 0.9999452054794521, 'recall': 1.0, 'f1': 0.9999726019890955, 'roc_auc': 0.9999999999999999}\n",
            "Training RandomForest...\n"
          ]
        },
        {
          "name": "stderr",
          "output_type": "stream",
          "text": [
            "c:\\Users\\W-HP\\AppData\\Local\\Programs\\Python\\Python313\\Lib\\site-packages\\mlflow\\types\\utils.py:452: UserWarning: Hint: Inferred schema contains integer column(s). Integer columns in Python cannot represent missing values. If your input data contains missing values at inference time, it will be encoded as floats and will cause a schema enforcement error. The best way to avoid this problem is to infer the model schema based on a realistic data sample (training dataset) that includes missing values. Alternatively, you can declare integer columns as doubles (float64) whenever these columns may have missing values. See `Handling Integers With Missing Values <https://www.mlflow.org/docs/latest/models.html#handling-integers-with-missing-values>`_ for more details.\n",
            "  warnings.warn(\n",
            "2025/07/04 16:40:44 WARNING mlflow.models.model: `artifact_path` is deprecated. Please use `name` instead.\n"
          ]
        },
        {
          "data": {
            "application/vnd.jupyter.widget-view+json": {
              "model_id": "e3ea2b667c714f4d8bf38c31253ce3b6",
              "version_major": 2,
              "version_minor": 0
            },
            "text/plain": [
              "Downloading artifacts:   0%|          | 0/7 [00:00<?, ?it/s]"
            ]
          },
          "metadata": {},
          "output_type": "display_data"
        },
        {
          "name": "stderr",
          "output_type": "stream",
          "text": [
            "Registered model 'CreditRiskModel_BestModel' already exists. Creating a new version of this model...\n",
            "2025/07/04 16:40:50 WARNING mlflow.tracking._model_registry.fluent: Run with id 44df4a7e3813468da0253c3363ae1b85 has no artifacts at artifact path 'model', registering model based on models:/m-54b90ea40e054dc4acef964da4ea749f instead\n"
          ]
        },
        {
          "name": "stdout",
          "output_type": "stream",
          "text": [
            "RandomForest metrics: {'accuracy': 1.0, 'precision': 1.0, 'recall': 1.0, 'f1': 1.0, 'roc_auc': 1.0}\n",
            "Registering best model: RandomForest (ROC-AUC: 1.0000)\n",
            "Best model saved to Best_model/RandomForest.pkl\n",
            "Best model: RandomForest\n",
            "Best metrics: {'accuracy': 1.0, 'precision': 1.0, 'recall': 1.0, 'f1': 1.0, 'roc_auc': 1.0}\n"
          ]
        },
        {
          "name": "stderr",
          "output_type": "stream",
          "text": [
            "Created version '3' of model 'CreditRiskModel_BestModel'.\n"
          ]
        }
      ],
      "source": [
        "from train import main\n",
        "main()"
      ]
    },
    {
      "cell_type": "code",
      "execution_count": null,
      "metadata": {},
      "outputs": [],
      "source": []
    }
  ],
  "metadata": {
    "accelerator": "GPU",
    "colab": {
      "gpuType": "T4",
      "provenance": []
    },
    "kernelspec": {
      "display_name": "Python 3",
      "name": "python3"
    },
    "language_info": {
      "codemirror_mode": {
        "name": "ipython",
        "version": 3
      },
      "file_extension": ".py",
      "mimetype": "text/x-python",
      "name": "python",
      "nbconvert_exporter": "python",
      "pygments_lexer": "ipython3",
      "version": "3.13.2"
    }
  },
  "nbformat": 4,
  "nbformat_minor": 0
}
